{
 "cells": [
  {
   "cell_type": "code",
   "id": "initial_id",
   "metadata": {
    "collapsed": true,
    "ExecuteTime": {
     "end_time": "2024-12-01T02:19:39.750877Z",
     "start_time": "2024-12-01T02:19:39.737066Z"
    }
   },
   "source": "print('Hello World')",
   "outputs": [
    {
     "name": "stdout",
     "output_type": "stream",
     "text": [
      "Hello World\n"
     ]
    }
   ],
   "execution_count": 1
  },
  {
   "metadata": {},
   "cell_type": "code",
   "outputs": [],
   "execution_count": null,
   "source": [
    "#~source: https: //en.wikipedia.org/wiki/Gradient_descent\n",
    "# code source: https://en.wikipedia.org/w/index.php?title=Gradient_descent&oldid=966271567\n",
    "\n",
    "# 初始值\n",
    "next_x = 6# We start the search at x = 6\n",
    "# 步长系数（学习率）\n",
    "gamma = 0.01# Step size multiplier\n",
    "# 提前停止（系数变化小于此值时停止）\n",
    "precision = 0.00001# Desired precision of result\n",
    "# 最大迭代次数\n",
    "max_iters = 10000# Maximum number of iterations\n",
    "\n",
    "# Derivative\n",
    "#function\n",
    "#求导\n",
    "def df(x):\n",
    "  return 4 * x ** 3 - 9 * x ** 2\n",
    "\n",
    "# 迭代\n",
    "for i in range(max_iters):\n",
    "    current_x = next_x\n",
    "    \n",
    "    #梯度下降\n",
    "    next_x = current_x - gamma * df(current_x)\n",
    "    print(i, next_x, df(current_x))\n",
    "\n",
    "    # 提前停止的判定，计算系数变化了多少，小于阈值后提前停止\n",
    "    step = next_x - current_x\n",
    "    if abs(step) <= precision:\n",
    "        break\n",
    "\n",
    "print(\"Minimum at \", next_x)\n",
    "\n",
    "# The output for the above will be something like \n",
    "# \"Minimum at 2.2499646074278457\""
   ],
   "id": "9c6f65ec7b78157"
  }
 ],
 "metadata": {
  "kernelspec": {
   "display_name": "Python 3",
   "language": "python",
   "name": "python3"
  },
  "language_info": {
   "codemirror_mode": {
    "name": "ipython",
    "version": 2
   },
   "file_extension": ".py",
   "mimetype": "text/x-python",
   "name": "python",
   "nbconvert_exporter": "python",
   "pygments_lexer": "ipython2",
   "version": "2.7.6"
  }
 },
 "nbformat": 4,
 "nbformat_minor": 5
}
